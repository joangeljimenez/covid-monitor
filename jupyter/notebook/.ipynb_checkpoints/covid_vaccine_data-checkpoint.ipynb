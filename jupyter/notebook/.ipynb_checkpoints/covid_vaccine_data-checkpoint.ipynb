{
 "cells": [
  {
   "cell_type": "code",
   "execution_count": 1,
   "metadata": {},
   "outputs": [],
   "source": [
    "import findspark\n",
    "import urllib\n",
    "import zipfile\n",
    "findspark.init()"
   ]
  },
  {
   "cell_type": "code",
   "execution_count": 2,
   "metadata": {},
   "outputs": [],
   "source": [
    "findspark.add_jars('/app/postgresql-42.1.4.jar')"
   ]
  },
  {
   "cell_type": "code",
   "execution_count": 3,
   "metadata": {},
   "outputs": [],
   "source": [
    "from pyspark.sql.functions import *\n",
    "import sys\n",
    "from pyspark.sql import SparkSession\n",
    "from pyspark.sql.types import StringType\n",
    "from pyspark.sql import functions as F\n",
    "from pyspark.sql.window import Window"
   ]
  },
  {
   "cell_type": "code",
   "execution_count": 4,
   "metadata": {},
   "outputs": [],
   "source": [
    "from pyspark.sql import SparkSession\n",
    "spark = (\n",
    "    SparkSession.builder\n",
    "    .appName(\"pyspark-etl\")\n",
    "    .config(\"spark.driver.memory\", \"512m\")\n",
    "    .config(\"spark.driver.cores\", \"1\")\n",
    "    .config(\"spark.executor.memory\", \"512m\")\n",
    "    .config(\"spark.executor.cores\", \"1\")\n",
    "    .config(\"spark.sql.shuffle.partitions\", \"2\")\n",
    "    .getOrCreate()\n",
    ")"
   ]
  },
  {
   "cell_type": "code",
   "execution_count": 7,
   "metadata": {},
   "outputs": [],
   "source": [
    "files = ['datos_nomivac_covid19.zip']"
   ]
  },
  {
   "cell_type": "code",
   "execution_count": 8,
   "metadata": {
    "scrolled": true
   },
   "outputs": [],
   "source": [
    "def download_file(file):\n",
    "  with urllib.request.urlopen('https://sisa.msal.gov.ar/datos/descargas/covid-19/files/{f}'.format(f=file)) as response:\n",
    "    gzipcontent = response.read()\n",
    "  with open('/tmp/{f}'.format(f=file), 'wb') as f:\n",
    "    f.write(gzipcontent)"
   ]
  },
  {
   "cell_type": "code",
   "execution_count": 9,
   "metadata": {},
   "outputs": [],
   "source": [
    "for f in files:\n",
    "  download_file(f)    "
   ]
  },
  {
   "cell_type": "code",
   "execution_count": 10,
   "metadata": {},
   "outputs": [],
   "source": [
    "with zipfile.ZipFile('/tmp/datos_nomivac_covid19.zip', \"r\") as zip_ref:\n",
    "    zip_ref.extractall('/dataset/')"
   ]
  },
  {
   "cell_type": "code",
   "execution_count": 11,
   "metadata": {},
   "outputs": [],
   "source": [
    "df = spark.read \\\n",
    "    .option(\"header\", True) \\\n",
    "    .option(\"inferSchema\", True) \\\n",
    "    .csv(\"/dataset/datos_nomivac_covid19.csv\")"
   ]
  },
  {
   "cell_type": "code",
   "execution_count": 12,
   "metadata": {},
   "outputs": [
    {
     "name": "stdout",
     "output_type": "stream",
     "text": [
      "root\n",
      " |-- sexo: string (nullable = true)\n",
      " |-- grupo_etario: string (nullable = true)\n",
      " |-- jurisdiccion_residencia: string (nullable = true)\n",
      " |-- jurisdiccion_residencia_id: integer (nullable = true)\n",
      " |-- depto_residencia: string (nullable = true)\n",
      " |-- depto_residencia_id: integer (nullable = true)\n",
      " |-- jurisdiccion_aplicacion: string (nullable = true)\n",
      " |-- jurisdiccion_aplicacion_id: integer (nullable = true)\n",
      " |-- depto_aplicacion: string (nullable = true)\n",
      " |-- depto_aplicacion_id: integer (nullable = true)\n",
      " |-- fecha_aplicacion: timestamp (nullable = true)\n",
      " |-- vacuna: string (nullable = true)\n",
      " |-- condicion_aplicacion: string (nullable = true)\n",
      " |-- orden_dosis: integer (nullable = true)\n",
      " |-- lote_vacuna: string (nullable = true)\n",
      "\n"
     ]
    }
   ],
   "source": [
    "df.printSchema()"
   ]
  },
  {
   "cell_type": "code",
   "execution_count": 14,
   "metadata": {},
   "outputs": [
    {
     "data": {
      "text/plain": [
       "[Row(sexo='F', count(sexo)=37577611),\n",
       " Row(sexo='M', count(sexo)=33662224),\n",
       " Row(sexo='S.I.', count(sexo)=158007),\n",
       " Row(sexo='X', count(sexo)=18)]"
      ]
     },
     "execution_count": 14,
     "metadata": {},
     "output_type": "execute_result"
    }
   ],
   "source": [
    "sorted(df.groupBy('sexo').agg({'sexo':'count'}).collect())"
   ]
  },
  {
   "cell_type": "code",
   "execution_count": 15,
   "metadata": {},
   "outputs": [
    {
     "name": "stdout",
     "output_type": "stream",
     "text": [
      "+------------+\n",
      "|grupo_etario|\n",
      "+------------+\n",
      "|       70-79|\n",
      "|       18-29|\n",
      "|       80-89|\n",
      "|       50-59|\n",
      "|       12-17|\n",
      "|       >=100|\n",
      "|       40-49|\n",
      "|       30-39|\n",
      "|         <12|\n",
      "|       60-69|\n",
      "|       90-99|\n",
      "|        S.I.|\n",
      "+------------+\n",
      "\n"
     ]
    }
   ],
   "source": [
    "df.select(\"grupo_etario\").distinct().show()"
   ]
  },
  {
   "cell_type": "code",
   "execution_count": 16,
   "metadata": {},
   "outputs": [
    {
     "name": "stdout",
     "output_type": "stream",
     "text": [
      "+-----------+\n",
      "|orden_dosis|\n",
      "+-----------+\n",
      "|          2|\n",
      "|          4|\n",
      "|          1|\n",
      "|          3|\n",
      "+-----------+\n",
      "\n"
     ]
    }
   ],
   "source": [
    "df.select(\"orden_dosis\").distinct().show(40)"
   ]
  },
  {
   "cell_type": "code",
   "execution_count": 17,
   "metadata": {},
   "outputs": [
    {
     "name": "stdout",
     "output_type": "stream",
     "text": [
      "+-------------------+\n",
      "|   fecha_aplicacion|\n",
      "+-------------------+\n",
      "|2021-03-02 00:00:00|\n",
      "|2021-08-07 00:00:00|\n",
      "|2021-03-13 00:00:00|\n",
      "|2021-09-07 00:00:00|\n",
      "|2021-07-29 00:00:00|\n",
      "|2021-09-22 00:00:00|\n",
      "|2021-07-23 00:00:00|\n",
      "|2021-06-04 00:00:00|\n",
      "|2021-09-29 00:00:00|\n",
      "|2021-07-19 00:00:00|\n",
      "|2021-06-03 00:00:00|\n",
      "|2021-06-05 00:00:00|\n",
      "|2021-09-29 00:00:00|\n",
      "|2021-07-24 00:00:00|\n",
      "|2021-09-22 00:00:00|\n",
      "|2021-09-22 00:00:00|\n",
      "|2021-06-05 00:00:00|\n",
      "|2021-06-05 00:00:00|\n",
      "|2021-09-22 00:00:00|\n",
      "|2021-10-31 00:00:00|\n",
      "+-------------------+\n",
      "only showing top 20 rows\n",
      "\n"
     ]
    }
   ],
   "source": [
    "df.select(\"fecha_aplicacion\").show(20)"
   ]
  },
  {
   "cell_type": "code",
   "execution_count": 18,
   "metadata": {},
   "outputs": [],
   "source": [
    "df_vaccine_application = sorted(df.groupBy('fecha_aplicacion','orden_dosis','jurisdiccion_residencia','sexo').agg({'vacuna':'count'}).collect())"
   ]
  },
  {
   "cell_type": "code",
   "execution_count": 19,
   "metadata": {},
   "outputs": [],
   "source": [
    "df_vaccine_application = spark.createDataFrame(df_vaccine_application)"
   ]
  },
  {
   "cell_type": "code",
   "execution_count": 20,
   "metadata": {},
   "outputs": [
    {
     "name": "stdout",
     "output_type": "stream",
     "text": [
      "+-------------------+-----------+-----------------------+----+-------------+\n",
      "|   fecha_aplicacion|orden_dosis|jurisdiccion_residencia|sexo|count(vacuna)|\n",
      "+-------------------+-----------+-----------------------+----+-------------+\n",
      "|2020-12-29 00:00:00|          1|           Buenos Aires|   F|         1322|\n",
      "|2020-12-29 00:00:00|          1|           Buenos Aires|   M|          767|\n",
      "|2020-12-29 00:00:00|          1|                   CABA|   F|          326|\n",
      "|2020-12-29 00:00:00|          1|                   CABA|   M|          222|\n",
      "|2020-12-29 00:00:00|          1|              Catamarca|   F|          164|\n",
      "+-------------------+-----------+-----------------------+----+-------------+\n",
      "only showing top 5 rows\n",
      "\n"
     ]
    }
   ],
   "source": [
    "df_vaccine_application.show(5)"
   ]
  },
  {
   "cell_type": "code",
   "execution_count": 21,
   "metadata": {},
   "outputs": [
    {
     "data": {
      "text/plain": [
       "46700"
      ]
     },
     "execution_count": 21,
     "metadata": {},
     "output_type": "execute_result"
    }
   ],
   "source": [
    "df_vaccine_application.count()"
   ]
  },
  {
   "cell_type": "code",
   "execution_count": 22,
   "metadata": {},
   "outputs": [
    {
     "name": "stdout",
     "output_type": "stream",
     "text": [
      "root\n",
      " |-- fecha_aplicacion: timestamp (nullable = true)\n",
      " |-- orden_dosis: long (nullable = true)\n",
      " |-- jurisdiccion_residencia: string (nullable = true)\n",
      " |-- sexo: string (nullable = true)\n",
      " |-- count(vacuna): long (nullable = true)\n",
      "\n"
     ]
    }
   ],
   "source": [
    "df_vaccine_application.printSchema()"
   ]
  },
  {
   "cell_type": "code",
   "execution_count": 23,
   "metadata": {},
   "outputs": [
    {
     "name": "stdout",
     "output_type": "stream",
     "text": [
      "+------------------+\n",
      "|sum(count(vacuna))|\n",
      "+------------------+\n",
      "|          71397860|\n",
      "+------------------+\n",
      "\n"
     ]
    }
   ],
   "source": [
    "df_vaccine_application.agg({'count(vacuna)':'sum'}).show()"
   ]
  },
  {
   "cell_type": "code",
   "execution_count": 24,
   "metadata": {},
   "outputs": [
    {
     "name": "stdout",
     "output_type": "stream",
     "text": [
      "root\n",
      " |-- fecha_aplicacion: timestamp (nullable = true)\n",
      " |-- orden_dosis: long (nullable = true)\n",
      " |-- jurisdiccion_residencia: string (nullable = true)\n",
      " |-- sexo: string (nullable = true)\n",
      " |-- count(vacuna): long (nullable = true)\n",
      "\n"
     ]
    }
   ],
   "source": [
    "df_vaccine_application.printSchema()"
   ]
  },
  {
   "cell_type": "code",
   "execution_count": 25,
   "metadata": {},
   "outputs": [],
   "source": [
    "df_vaccine_application = df_vaccine_application \\\n",
    "                         .withColumnRenamed('count(vacuna)',\"cantidad_vacunas\") \\\n",
    "                         .withColumnRenamed('jurisdiccion_residencia',\"provincia\") \\\n",
    "                         .withColumn('fecha_aplicacion',to_date(\"fecha_aplicacion\"))"
   ]
  },
  {
   "cell_type": "code",
   "execution_count": 26,
   "metadata": {},
   "outputs": [],
   "source": [
    "df_vaccine_application = df_vaccine_application.selectExpr(\n",
    "                            'fecha_aplicacion',\n",
    "                            'provincia',\n",
    "                            'sexo',\n",
    "                            'cantidad_vacunas',\n",
    "                            'cast(orden_dosis as string) orden_dosis'\n",
    ")"
   ]
  },
  {
   "cell_type": "code",
   "execution_count": 27,
   "metadata": {},
   "outputs": [
    {
     "name": "stdout",
     "output_type": "stream",
     "text": [
      "root\n",
      " |-- fecha_aplicacion: date (nullable = true)\n",
      " |-- provincia: string (nullable = true)\n",
      " |-- sexo: string (nullable = true)\n",
      " |-- cantidad_vacunas: long (nullable = true)\n",
      " |-- orden_dosis: string (nullable = true)\n",
      "\n"
     ]
    }
   ],
   "source": [
    "df_vaccine_application.printSchema()"
   ]
  },
  {
   "cell_type": "code",
   "execution_count": 28,
   "metadata": {},
   "outputs": [
    {
     "name": "stdout",
     "output_type": "stream",
     "text": [
      "+----------------+------------+----+----------------+-----------+\n",
      "|fecha_aplicacion|   provincia|sexo|cantidad_vacunas|orden_dosis|\n",
      "+----------------+------------+----+----------------+-----------+\n",
      "|      2020-12-29|Buenos Aires|   F|            1322|          1|\n",
      "|      2020-12-29|Buenos Aires|   M|             767|          1|\n",
      "|      2020-12-29|        CABA|   F|             326|          1|\n",
      "|      2020-12-29|        CABA|   M|             222|          1|\n",
      "|      2020-12-29|   Catamarca|   F|             164|          1|\n",
      "+----------------+------------+----+----------------+-----------+\n",
      "only showing top 5 rows\n",
      "\n"
     ]
    }
   ],
   "source": [
    "df_vaccine_application.show(5)"
   ]
  },
  {
   "cell_type": "code",
   "execution_count": 29,
   "metadata": {},
   "outputs": [],
   "source": [
    "output_dir = '/dataset/output.parquet'"
   ]
  },
  {
   "cell_type": "code",
   "execution_count": 30,
   "metadata": {},
   "outputs": [],
   "source": [
    "df_vaccine_application.write.mode('overwrite').partitionBy(\"fecha_aplicacion\",\"orden_dosis\").parquet(output_dir)"
   ]
  },
  {
   "cell_type": "code",
   "execution_count": 31,
   "metadata": {},
   "outputs": [
    {
     "data": {
      "text/plain": [
       "DataFrame[provincia: string, sexo: string, cantidad_vacunas: bigint, fecha_aplicacion: date, orden_dosis: int]"
      ]
     },
     "execution_count": 31,
     "metadata": {},
     "output_type": "execute_result"
    }
   ],
   "source": [
    "spark.read.parquet(output_dir)"
   ]
  },
  {
   "cell_type": "code",
   "execution_count": 32,
   "metadata": {},
   "outputs": [],
   "source": [
    "df_vaccine_application \\\n",
    "    .write \\\n",
    "    .format(\"jdbc\") \\\n",
    "    .option(\"url\", \"jdbc:postgresql://postgres/covid\") \\\n",
    "    .option(\"dbtable\", \"covid.vaccine\") \\\n",
    "    .option(\"user\", \"covid\") \\\n",
    "    .option(\"password\", \"c0v1d\") \\\n",
    "    .option(\"driver\", \"org.postgresql.Driver\") \\\n",
    "    .mode('append') \\\n",
    "    .save()\n"
   ]
  },
  {
   "cell_type": "code",
   "execution_count": null,
   "metadata": {},
   "outputs": [],
   "source": [
    "spark.stop() "
   ]
  }
 ],
 "metadata": {
  "kernelspec": {
   "display_name": "Python 3",
   "language": "python",
   "name": "python3"
  },
  "language_info": {
   "codemirror_mode": {
    "name": "ipython",
    "version": 3
   },
   "file_extension": ".py",
   "mimetype": "text/x-python",
   "name": "python",
   "nbconvert_exporter": "python",
   "pygments_lexer": "ipython3",
   "version": "3.7.3"
  }
 },
 "nbformat": 4,
 "nbformat_minor": 4
}
